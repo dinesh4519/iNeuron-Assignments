{
  "nbformat": 4,
  "nbformat_minor": 0,
  "metadata": {
    "colab": {
      "name": "Assignmnet 1.ipynb",
      "provenance": [],
      "collapsed_sections": []
    },
    "kernelspec": {
      "name": "python3",
      "display_name": "Python 3"
    }
  },
  "cells": [
    {
      "cell_type": "markdown",
      "metadata": {
        "id": "UeGHUZzV8ymN"
      },
      "source": [
        "##                                      iNeuron Assignments - 1"
      ]
    },
    {
      "cell_type": "markdown",
      "metadata": {
        "id": "hfxnMXbu8_M4"
      },
      "source": [
        "1. Write a program which will find all such numbers which are divisible by 7 but are not a multiple of 5, between 2000 and 3200 (both included). The numbers obtained should be printed in a comma-separated sequence on a single line\r\n"
      ]
    },
    {
      "cell_type": "code",
      "metadata": {
        "colab": {
          "base_uri": "https://localhost:8080/"
        },
        "id": "wmUtDDAB89Yx",
        "outputId": "5ff4821c-91f2-4fb3-cadc-f13a97beb794"
      },
      "source": [
        "m=[]\r\n",
        "for i in range (2000,3201):\r\n",
        "  if (i % 7 == 0) and (i % 5 !=0):\r\n",
        "    m.append(i)\r\n",
        "print (m)\r\n"
      ],
      "execution_count": 6,
      "outputs": [
        {
          "output_type": "stream",
          "text": [
            "[2002, 2009, 2016, 2023, 2037, 2044, 2051, 2058, 2072, 2079, 2086, 2093, 2107, 2114, 2121, 2128, 2142, 2149, 2156, 2163, 2177, 2184, 2191, 2198, 2212, 2219, 2226, 2233, 2247, 2254, 2261, 2268, 2282, 2289, 2296, 2303, 2317, 2324, 2331, 2338, 2352, 2359, 2366, 2373, 2387, 2394, 2401, 2408, 2422, 2429, 2436, 2443, 2457, 2464, 2471, 2478, 2492, 2499, 2506, 2513, 2527, 2534, 2541, 2548, 2562, 2569, 2576, 2583, 2597, 2604, 2611, 2618, 2632, 2639, 2646, 2653, 2667, 2674, 2681, 2688, 2702, 2709, 2716, 2723, 2737, 2744, 2751, 2758, 2772, 2779, 2786, 2793, 2807, 2814, 2821, 2828, 2842, 2849, 2856, 2863, 2877, 2884, 2891, 2898, 2912, 2919, 2926, 2933, 2947, 2954, 2961, 2968, 2982, 2989, 2996, 3003, 3017, 3024, 3031, 3038, 3052, 3059, 3066, 3073, 3087, 3094, 3101, 3108, 3122, 3129, 3136, 3143, 3157, 3164, 3171, 3178, 3192, 3199]\n"
          ],
          "name": "stdout"
        }
      ]
    },
    {
      "cell_type": "markdown",
      "metadata": {
        "id": "8cWtE8QC8917"
      },
      "source": [
        "2.   Write a Python program to accept the user's first and last name and then getting them printed in the the reverse order with a space between first name and last name.\r\n",
        "\r\n"
      ]
    },
    {
      "cell_type": "code",
      "metadata": {
        "colab": {
          "base_uri": "https://localhost:8080/"
        },
        "id": "pvSzPsD_-_tW",
        "outputId": "15e9d1d4-cc59-473f-f768-575c7db7dab4"
      },
      "source": [
        "i= input(str(\"Enter Your first name\"))\r\n",
        "j= input(str(\"Enter your last name\"))\r\n",
        "print (i[::-1] + \" \" + j[::-1])\r\n",
        "\r\n"
      ],
      "execution_count": 9,
      "outputs": [
        {
          "output_type": "stream",
          "text": [
            "Enter Your first nameDinesh\n",
            "Enter your last nameSahu\n",
            "hseniD uhaS\n"
          ],
          "name": "stdout"
        }
      ]
    },
    {
      "cell_type": "markdown",
      "metadata": {
        "id": "UH52dDTdBXLR"
      },
      "source": [
        "3. Write a Python program to find the volume of a sphere with diameter 12 cm. Formula: V=4/3 * π * r 3\r\n"
      ]
    },
    {
      "cell_type": "code",
      "metadata": {
        "colab": {
          "base_uri": "https://localhost:8080/"
        },
        "id": "CiK6ezt5Bqki",
        "outputId": "5ce84f5d-30cc-4776-8f42-f198352d0ecd"
      },
      "source": [
        "d= float(input(\"Enter the diameter\" ))\r\n",
        "r = d/2\r\n",
        "v = 4/3*3.14*r**3\r\n",
        "print(\"The volume of sphere is \" , v)"
      ],
      "execution_count": 29,
      "outputs": [
        {
          "output_type": "stream",
          "text": [
            "Enter the diameter10\n",
            "The volume of sphere is  523.3333333333334\n"
          ],
          "name": "stdout"
        }
      ]
    },
    {
      "cell_type": "code",
      "metadata": {
        "id": "AC6GyxMrE9yW"
      },
      "source": [
        ""
      ],
      "execution_count": 28,
      "outputs": []
    }
  ]
}